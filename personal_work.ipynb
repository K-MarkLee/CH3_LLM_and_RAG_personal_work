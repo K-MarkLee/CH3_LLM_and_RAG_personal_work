{
 "cells": [
  {
   "cell_type": "code",
   "execution_count": 1,
   "metadata": {},
   "outputs": [],
   "source": [
    "import os\n",
    "from langchain_community.document_loaders import PyPDFLoader\n",
    "from langchain.text_splitter import CharacterTextSplitter, RecursiveCharacterTextSplitter\n"
   ]
  },
  {
   "cell_type": "code",
   "execution_count": 7,
   "metadata": {},
   "outputs": [],
   "source": [
    "os.environ[\"OpenAI_API_KEY\"] = os.getenv(\"GPT_API\")\n",
    "\n",
    "# PDF 파일 로드. 파일의 경로 입력\n",
    "loader = PyPDFLoader(\"data/LLM_Research_Trends.pdf\")\n",
    "\n",
    "# 페이지 별 문서 로드\n",
    "docs = loader.load()"
   ]
  },
  {
   "cell_type": "code",
   "execution_count": 8,
   "metadata": {},
   "outputs": [],
   "source": [
    "text_splitter = CharacterTextSplitter(\n",
    "    separator=\"\\n\\n\",\n",
    "    chunk_size=10,\n",
    "    chunk_overlap=10,\n",
    "    length_function=len,\n",
    "    is_separator_regex=False,\n",
    ")\n",
    "\n",
    "\n",
    "recursive_text_splitter = RecursiveCharacterTextSplitter(\n",
    "    chunk_size=100,\n",
    "    chunk_overlap=10,\n",
    "    length_function=len,\n",
    "    is_separator_regex=False,\n",
    ")"
   ]
  },
  {
   "cell_type": "code",
   "execution_count": null,
   "metadata": {},
   "outputs": [
    {
     "name": "stdout",
     "output_type": "stream",
     "text": [
      "Chunk 0: page_content='8 특집원고  초거대 언어모델 연구 동향\n",
      "초거대 언어모델 연구 동향\n",
      "업스테이지  박찬준*･이원성･김윤기･김지후･이활석\n",
      " \n",
      "1. 서  론1)\n",
      "ChatGPT1)와 같은 초거대 언어모델(Large Language \n",
      "Model, LLM) 의 등장으로 기존에 병렬적으로 연구되\n",
      "던 다양한 자연언어처리 하위 분야들이 하나의 모델\n",
      "로 처리되고 있으며, 태스크 수렴 현상 (Converge)이 \n",
      "발생하고 있다. 즉 하나의 LLM으로 번역, 요약, 질의\n",
      "응답, 형태소분석 등의 작업을 모두 처리할 수 있게 \n",
      "되었다. 프롬프트 (Prompt)를 어떻게 모델에게 입력하\n",
      "느냐에 따라서 LLM의 다양한 능력들이 창발되고, 이\n",
      "에 따라 사용자의 목적에 맞는 출력을 생성하는 패러\n",
      "다임을 맞이하게 되었다 [1].\n",
      "LLM은 최근 몇 년 간의 연구 동향에 따라 뛰어난 \n",
      "발전을 이루고 있다. 이러한 발전은 몇 가지 주요한 \n",
      "요인에 기반하고 있으며, 이 요인들은 현대 자연언어\n",
      "처리 (Natural Language Processing, NLP) 연구의 핵심\n",
      "적인 추세로 간주된다. 첫째로, 데이터의 양적 확대는 \n",
      "무시할 수 없는 중요한 요인이다. 디지털화의 선도로, \n",
      "텍스트 데이터의 양이 기하급수적으로 증가하였고, \n",
      "이는 연구의 질적 변화를 가져왔다. 대규모 코퍼스의 \n",
      "활용은 LLM의 일반화 능력을 향상시키며, 다양한 맥\n",
      "락과 주제에 대한 깊은 학습을 가능하게 한다. 둘째\n",
      "로, 컴퓨팅 기술의 진보는 LLM의 발전에 있어 결정\n",
      "적이었다. 특히, Graphics Processing Unit (GPU) 및 \n",
      "Tensor Processing Unit (TPU) 와 같은 고성능 병렬 처\n",
      "리 하드웨어의 개발은 모델 학습에 있어 병목 현상을 \n",
      "크게 완화시켰다. 이로 인해 연구자들은 모델의 복잡\n",
      "성을 키우고, 더욱 깊은 신경망 구조를 탐구할 수 있\n",
      "게 되었다. 셋째, 알고리즘 및 기술의 발전은 LLM의 \n",
      "성능 향상을 주도하였다. Attention 및 Transformer \n",
      "Architecture의 도입은 연구자들에게 문맥 간의 관계\n",
      "를 더욱 정교하게 모델링할 수 있는 방법을 제공하였\n",
      "다 [2, 3]. 이 모든 변화의 중심에는 ‘scaling law’라는 \n",
      "* 정회원\n",
      "1) https://openai.com/blog/chatgpt\n",
      "학문적인 통찰이 있다 [4]. 해당 연구에 따르면, 모델\n",
      "의 크기와 그 성능은 긍정적인 상관 관계를 보인다. \n",
      "이를 통해 연구자들은 모델의 파라미터 수를 증가시\n",
      "키면서, 이에 따른 성능 향상을 기술적 진보의 상호 \n",
      "작용에서 나온 결과이며, 이러한 추세는 앞으로도 \n",
      "NLP 연구의 주요 동력이 될 것으로 예상된다.\n",
      "연구단계를 넘어 LLM은 산업계에서도 많은 발전\n",
      "을 이루어 내고 있다. LLM 은 교육, 의료, 금융, 제조 \n",
      "등 거의 모든 산업 분야에서 광범위한 활용 가능성을 \n",
      "제시하고 있다 [5, 6, 7, 8]. 교육 분야에서는 단순한 \n",
      "정보 검색을 넘어, 개인화된 학습 경로를 추천하는 시\n",
      "스템, 과제의 자동 평가, 학생들의 복잡한 질문에 대\n",
      "한 답변 제공 등의 역할로 활용될 수 있다. 이는 교육\n",
      "의 효율성과 개인화를 동시에 추구하는 현대의 교육 \n",
      "트렌드와 맞물려 큰 효과를 발휘할 것으로 기대된다. \n",
      "의료 분야에서는 환자 데이터를 기반으로 한 초기 진\n",
      "단 도구로 활용될 뿐만 아니라, 복잡한 의료 기록 분\n",
      "석, 신약 개발에 필요한 연구 데이터 분석, 또는 최신 \n",
      "의학 연구 동향 파악 등의 다양한 역할을 수행할 수 \n",
      "있다. 이로써 의료 전문가들의 결정을 보조하고, 효율\n",
      "적인 치료 방향을 도모할 수 있게 된다. 금융 분야에\n",
      "서는 개인의 투자 성향과 시장의 동향을 분석하여 투\n",
      "자 권고를 제공하는 것 외에도, 금융 위험을 상세하게 \n",
      "분석하거나, 복잡한 금융 거래를 자동화하는 시스템\n",
      "의 핵심 구성 요소로서의 역할을 할 수 있다. 이는 금\n",
      "융 서비스의 효율과 안전성 향상에 크게 기여할 것이\n",
      "다. 제조 분야에서도 LLM은 설계 단계부터 생산, 품\n",
      "질 관리에 이르기까지의 전 과정에서 데이터 분석 및 \n",
      "최적화 도구로 활용될 수 있다. 생산 효율성 향상과 \n",
      "제품 품질 향상을 도모하며, 고객의 니즈에 더욱 민첩\n",
      "하게 대응할 수 있는 기회를 제공한다.\n",
      "그러나, 이러한 긍정적인 측면들과 더불어 LLM의 \n",
      "한계점과 위험성도 고려되어야 한다. LLM 은 학습 데\n",
      "이터의 편향성을 그대로 반영할 수 있어, 편향된 결과\n",
      "나 추천을 할 가능성이 있다 [9]. 이는 특히 중요한 의\n",
      "특집원고' metadata={'source': 'data/LLM_Research_Trends.pdf', 'page': 0}\n"
     ]
    }
   ],
   "source": [
    "\n",
    "text_splits = text_splitter.split_documents(docs)\n",
    "\n",
    "\n",
    "for i, doc in enumerate(docs[:3]):  # 리스트 슬라이싱으로 상위 3개 가져옴\n",
    "    print(f\"Chunk {i + 1}: {doc.page_content}\")"
   ]
  }
 ],
 "metadata": {
  "kernelspec": {
   "display_name": "Mark",
   "language": "python",
   "name": "python3"
  },
  "language_info": {
   "codemirror_mode": {
    "name": "ipython",
    "version": 3
   },
   "file_extension": ".py",
   "mimetype": "text/x-python",
   "name": "python",
   "nbconvert_exporter": "python",
   "pygments_lexer": "ipython3",
   "version": "3.9.20"
  }
 },
 "nbformat": 4,
 "nbformat_minor": 2
}
